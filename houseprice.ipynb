{
 "cells": [
  {
   "cell_type": "code",
   "execution_count": 1,
   "metadata": {},
   "outputs": [],
   "source": [
    "import pandas as pd\n",
    "import numpy as np\n"
   ]
  },
  {
   "cell_type": "code",
   "execution_count": 4,
   "metadata": {},
   "outputs": [
    {
     "name": "stdout",
     "output_type": "stream",
     "text": [
      "            date         price  bedrooms  bathrooms  sqft_living  sqft_lot  \\\n",
      "0     02-05-2014  3.130000e+05         3       1.50         1340      7912   \n",
      "1     02-05-2014  2.384000e+06         5       2.50         3650      9050   \n",
      "2     02-05-2014  3.420000e+05         3       2.00         1930     11947   \n",
      "3     02-05-2014  4.200000e+05         3       2.25         2000      8030   \n",
      "4     02-05-2014  5.500000e+05         4       2.50         1940     10500   \n",
      "...          ...           ...       ...        ...          ...       ...   \n",
      "4595  09-07-2014  3.081667e+05         3       1.75         1510      6360   \n",
      "4596  09-07-2014  5.343333e+05         3       2.50         1460      7573   \n",
      "4597  09-07-2014  4.169042e+05         3       2.50         3010      7014   \n",
      "4598  10-07-2014  2.034000e+05         4       2.00         2090      6630   \n",
      "4599  10-07-2014  2.206000e+05         3       2.50         1490      8102   \n",
      "\n",
      "      floors  waterfront  view  condition  sqft_above  sqft_basement  \\\n",
      "0        1.5           0     0          3        1340              0   \n",
      "1        2.0           0     4          5        3370            280   \n",
      "2        1.0           0     0          4        1930              0   \n",
      "3        1.0           0     0          4        1000           1000   \n",
      "4        1.0           0     0          4        1140            800   \n",
      "...      ...         ...   ...        ...         ...            ...   \n",
      "4595     1.0           0     0          4        1510              0   \n",
      "4596     2.0           0     0          3        1460              0   \n",
      "4597     2.0           0     0          3        3010              0   \n",
      "4598     1.0           0     0          3        1070           1020   \n",
      "4599     2.0           0     0          4        1490              0   \n",
      "\n",
      "      yr_built  yr_renovated                    street       city  statezip  \\\n",
      "0         1955          2005      18810 Densmore Ave N  Shoreline  WA 98133   \n",
      "1         1921             0           709 W Blaine St    Seattle  WA 98119   \n",
      "2         1966             0  26206-26214 143rd Ave SE       Kent  WA 98042   \n",
      "3         1963             0           857 170th Pl NE   Bellevue  WA 98008   \n",
      "4         1976          1992         9105 170th Ave NE    Redmond  WA 98052   \n",
      "...        ...           ...                       ...        ...       ...   \n",
      "4595      1954          1979            501 N 143rd St    Seattle  WA 98133   \n",
      "4596      1983          2009          14855 SE 10th Pl   Bellevue  WA 98007   \n",
      "4597      2009             0          759 Ilwaco Pl NE     Renton  WA 98059   \n",
      "4598      1974             0         5148 S Creston St    Seattle  WA 98178   \n",
      "4599      1990             0         18717 SE 258th St  Covington  WA 98042   \n",
      "\n",
      "     country  \n",
      "0        USA  \n",
      "1        USA  \n",
      "2        USA  \n",
      "3        USA  \n",
      "4        USA  \n",
      "...      ...  \n",
      "4595     USA  \n",
      "4596     USA  \n",
      "4597     USA  \n",
      "4598     USA  \n",
      "4599     USA  \n",
      "\n",
      "[4600 rows x 18 columns]\n"
     ]
    }
   ],
   "source": [
    "df=pd.read_csv(\"data.csv\")\n",
    "print(df)"
   ]
  },
  {
   "cell_type": "code",
   "execution_count": 9,
   "metadata": {},
   "outputs": [
    {
     "name": "stdout",
     "output_type": "stream",
     "text": [
      "      bedrooms  bathrooms\n",
      "0            3       1.50\n",
      "1            5       2.50\n",
      "2            3       2.00\n",
      "3            3       2.25\n",
      "4            4       2.50\n",
      "...        ...        ...\n",
      "4595         3       1.75\n",
      "4596         3       2.50\n",
      "4597         3       2.50\n",
      "4598         4       2.00\n",
      "4599         3       2.50\n",
      "\n",
      "[4600 rows x 2 columns]\n"
     ]
    },
    {
     "data": {
      "text/html": [
       "<div>\n",
       "<style scoped>\n",
       "    .dataframe tbody tr th:only-of-type {\n",
       "        vertical-align: middle;\n",
       "    }\n",
       "\n",
       "    .dataframe tbody tr th {\n",
       "        vertical-align: top;\n",
       "    }\n",
       "\n",
       "    .dataframe thead th {\n",
       "        text-align: right;\n",
       "    }\n",
       "</style>\n",
       "<table border=\"1\" class=\"dataframe\">\n",
       "  <thead>\n",
       "    <tr style=\"text-align: right;\">\n",
       "      <th></th>\n",
       "      <th>price</th>\n",
       "    </tr>\n",
       "  </thead>\n",
       "  <tbody>\n",
       "    <tr>\n",
       "      <th>0</th>\n",
       "      <td>3.130000e+05</td>\n",
       "    </tr>\n",
       "    <tr>\n",
       "      <th>1</th>\n",
       "      <td>2.384000e+06</td>\n",
       "    </tr>\n",
       "    <tr>\n",
       "      <th>2</th>\n",
       "      <td>3.420000e+05</td>\n",
       "    </tr>\n",
       "    <tr>\n",
       "      <th>3</th>\n",
       "      <td>4.200000e+05</td>\n",
       "    </tr>\n",
       "    <tr>\n",
       "      <th>4</th>\n",
       "      <td>5.500000e+05</td>\n",
       "    </tr>\n",
       "    <tr>\n",
       "      <th>...</th>\n",
       "      <td>...</td>\n",
       "    </tr>\n",
       "    <tr>\n",
       "      <th>4595</th>\n",
       "      <td>3.081667e+05</td>\n",
       "    </tr>\n",
       "    <tr>\n",
       "      <th>4596</th>\n",
       "      <td>5.343333e+05</td>\n",
       "    </tr>\n",
       "    <tr>\n",
       "      <th>4597</th>\n",
       "      <td>4.169042e+05</td>\n",
       "    </tr>\n",
       "    <tr>\n",
       "      <th>4598</th>\n",
       "      <td>2.034000e+05</td>\n",
       "    </tr>\n",
       "    <tr>\n",
       "      <th>4599</th>\n",
       "      <td>2.206000e+05</td>\n",
       "    </tr>\n",
       "  </tbody>\n",
       "</table>\n",
       "<p>4600 rows × 1 columns</p>\n",
       "</div>"
      ],
      "text/plain": [
       "             price\n",
       "0     3.130000e+05\n",
       "1     2.384000e+06\n",
       "2     3.420000e+05\n",
       "3     4.200000e+05\n",
       "4     5.500000e+05\n",
       "...            ...\n",
       "4595  3.081667e+05\n",
       "4596  5.343333e+05\n",
       "4597  4.169042e+05\n",
       "4598  2.034000e+05\n",
       "4599  2.206000e+05\n",
       "\n",
       "[4600 rows x 1 columns]"
      ]
     },
     "execution_count": 9,
     "metadata": {},
     "output_type": "execute_result"
    }
   ],
   "source": [
    "x=df[['bedrooms','bathrooms']]\n",
    "print(x)\n",
    "y=df[['price']]\n",
    "y\n",
    "\n"
   ]
  },
  {
   "cell_type": "code",
   "execution_count": 1,
   "metadata": {},
   "outputs": [
    {
     "name": "stdout",
     "output_type": "stream",
     "text": [
      "Mean Squared Error: 991204834716.4768\n",
      "R-squared Score: 0.02808413801628229\n",
      "Predicted Price for the example house: $528017.1113481836\n"
     ]
    },
    {
     "name": "stderr",
     "output_type": "stream",
     "text": [
      "C:\\Users\\arunp\\AppData\\Local\\Packages\\PythonSoftwareFoundation.Python.3.10_qbz5n2kfra8p0\\LocalCache\\local-packages\\Python310\\site-packages\\sklearn\\base.py:465: UserWarning: X does not have valid feature names, but LinearRegression was fitted with feature names\n",
      "  warnings.warn(\n"
     ]
    }
   ],
   "source": [
    "import pandas as pd\n",
    "from sklearn.model_selection import train_test_split\n",
    "from sklearn.linear_model import LinearRegression\n",
    "from sklearn.metrics import mean_squared_error, r2_score\n",
    "\n",
    "# Load your dataset into a Pandas DataFrame\n",
    "# Assuming your data is in a CSV file named 'house_data.csv'\n",
    "data = pd.read_csv('data.csv')\n",
    "\n",
    "# Select features (square footage, number of bedrooms, number of bathrooms)\n",
    "X = data[['sqft_living', 'bedrooms', 'bathrooms']]\n",
    "y = data['price']\n",
    "\n",
    "# Split the data into training and testing sets\n",
    "X_train, X_test, y_train, y_test = train_test_split(X, y, test_size=0.2, random_state=42)\n",
    "\n",
    "# Initialize and fit the linear regression model\n",
    "model = LinearRegression()\n",
    "model.fit(X_train, y_train)\n",
    "\n",
    "# Make predictions on the testing set\n",
    "y_pred = model.predict(X_test)\n",
    "\n",
    "# Evaluate the model\n",
    "mse = mean_squared_error(y_test, y_pred)\n",
    "r2 = r2_score(y_test, y_pred)\n",
    "\n",
    "print(f\"Mean Squared Error: {mse}\")\n",
    "print(f\"R-squared Score: {r2}\")\n",
    "\n",
    "# Example prediction\n",
    "example_house = [[2000, 3, 2]]  # Square footage: 2000, Bedrooms: 3, Bathrooms: 2\n",
    "predicted_price = model.predict(example_house)\n",
    "print(f\"Predicted Price for the example house: ${predicted_price[0]}\")\n"
   ]
  },
  {
   "cell_type": "code",
   "execution_count": null,
   "metadata": {},
   "outputs": [],
   "source": []
  }
 ],
 "metadata": {
  "kernelspec": {
   "display_name": "Python 3",
   "language": "python",
   "name": "python3"
  },
  "language_info": {
   "codemirror_mode": {
    "name": "ipython",
    "version": 3
   },
   "file_extension": ".py",
   "mimetype": "text/x-python",
   "name": "python",
   "nbconvert_exporter": "python",
   "pygments_lexer": "ipython3",
   "version": "3.10.11"
  }
 },
 "nbformat": 4,
 "nbformat_minor": 2
}
